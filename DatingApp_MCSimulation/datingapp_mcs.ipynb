{
 "cells": [
  {
   "cell_type": "code",
   "execution_count": 3,
   "metadata": {},
   "outputs": [],
   "source": [
    "import PIL\n",
    "from PIL import Image\n",
    "import numpy as np\n",
    "import pandas as pd\n",
    "from pandas import Series, DataFrame\n",
    "import math\n",
    "import os\n",
    "import sys\n",
    "import random\n",
    "from matplotlib import pyplot as plt"
   ]
  },
  {
   "cell_type": "markdown",
   "metadata": {},
   "source": [
    "### 1. Gender Distribution"
   ]
  },
  {
   "cell_type": "code",
   "execution_count": 4,
   "metadata": {},
   "outputs": [],
   "source": [
    "def generateGenderDistribution():\n",
    "    # Generate Gender Distribution from data source\n",
    "    gender_df = DataFrame({'Gender' : [1, 0], 'Probability' : [0.4852, 0.5148]})\n",
    "    return gender_df\n",
    "gender_df = generateGenderDistribution()"
   ]
  },
  {
   "cell_type": "markdown",
   "metadata": {},
   "source": [
    "### 2. Population Distribution"
   ]
  },
  {
   "cell_type": "code",
   "execution_count": 5,
   "metadata": {},
   "outputs": [],
   "source": [
    "def generatePopulationDistribution(seed = 99):\n",
    "    # Generate population distribution from data source and random number for population list\n",
    "    # >>> generatePopulationDistribution(seed = 99)\n",
    "    # >>> Population Density Range\tProbability\n",
    "    #            0\t(7128, 7325)\t0.120283\n",
    "    #            1\t(2970, 3167)\t0.077270\n",
    "    #            2\t(12270, 12466)\t0.037713\n",
    "    #            3\t(23499, 23695)\t0.036740\n",
    "    #            4\t(5940, 6137)\t0.036407\n",
    "    #            ...\t...\t...\n",
    "    #            147\t(11482, 11678)\t0.001331\n",
    "    #            148\t(8910, 9107)\t0.001331\n",
    "    #            149\t(10098, 10295)\t0.001319\n",
    "    #            150\t(19165, 19361)\t0.001293\n",
    "    #            151\t(20347, 20543)\t0.001293\n",
    "    random.seed(99)\n",
    "    population_img = Image.open(r'./Distribution/City of Chicago population density circa 2010.jpg')\n",
    "    population_image_sequence = population_img.getdata()\n",
    "    population_image_array = np.array(population_image_sequence)\n",
    "    population_image_series = Series(population_image_array.tolist()).map(lambda x : ', '.join(list(map(str, x))))\n",
    "    population_image_series_vc = population_image_series.value_counts()\n",
    "    population_image_series_vc = population_image_series_vc.iloc[1:]\n",
    "    population_image_series_vc = population_image_series_vc[population_image_series_vc > 100]\n",
    "    population_p  = population_image_series_vc / population_image_series_vc.sum()\n",
    "    population_p = population_p.values.tolist()\n",
    "\n",
    "    x = 30000\n",
    "    num_bins = len(population_p)\n",
    "    lower_ls = list(map(min, np.array_split(range(x), num_bins)))\n",
    "    upper_ls = list(map(max, np.array_split(range(x), num_bins)))\n",
    "    range_ls = list(zip(lower_ls, upper_ls))\n",
    "    random.shuffle(range_ls)\n",
    "    population_df = DataFrame({'Population Density Range' : range_ls, 'Probability' : population_p})\n",
    "    return population_df\n",
    "population_df = generatePopulationDistribution(seed = 99)"
   ]
  },
  {
   "cell_type": "markdown",
   "metadata": {},
   "source": [
    "### 3. Income Distribution"
   ]
  },
  {
   "cell_type": "code",
   "execution_count": 6,
   "metadata": {},
   "outputs": [],
   "source": [
    "def generateIncomeDistribution(seed = 20):\n",
    "    # Generate population distribution from data source and random number for population list\n",
    "    # >>> generateIncomeDistribution(seed = 20)\n",
    "    #         Income Range\tProbability\n",
    "    #         0\t(10003, 11431)\t0.073294\n",
    "    #         1\t(51444, 52872)\t0.023482\n",
    "    #         2\t(174336, 175763)\t0.019728\n",
    "    #         3\t(47157, 48585)\t0.019662\n",
    "    #         4\t(112891, 114319)\t0.019105\n",
    "    #         ...\t...\t...\n",
    "    #         205\t(54302, 55730)\t0.000245\n",
    "    #         206\t(280008, 281435)\t0.000239\n",
    "    #         207\t(287148, 288575)\t0.000237\n",
    "    #         208\t(250020, 251447)\t0.000235\n",
    "    #         209\t(264300, 265727)\t0.000210    \n",
    "    random.seed(20)\n",
    "    income_img = Image.open(r'./Distribution/Chicago-Median-Household-Income.png')\n",
    "    income_image_sequence = income_img.getdata()\n",
    "    income_image_array = np.array(income_image_sequence)\n",
    "    income_image_series = Series(income_image_array.tolist()).map(lambda x : ', '.join(list(map(str, x))))\n",
    "    income_image_series_vc = income_image_series.value_counts()\n",
    "    income_image_series_vc = income_image_series_vc.iloc[1:]\n",
    "    income_image_series_vc = income_image_series_vc[income_image_series_vc > 100]\n",
    "    income_image_series_vc = income_image_series.value_counts()\n",
    "    income_image_series_vc = income_image_series_vc.iloc[1:]\n",
    "    income_image_series_vc = income_image_series_vc[income_image_series_vc > 100]\n",
    "    income_p  = income_image_series_vc / income_image_series_vc.sum()\n",
    "    income_p = income_p.values.tolist()\n",
    "    income_image_series_vc = income_image_series.value_counts()\n",
    "    income_image_series_vc = income_image_series_vc.iloc[1:]\n",
    "    income_image_series_vc = income_image_series_vc[income_image_series_vc > 100]\n",
    "    income_p  = income_image_series_vc / income_image_series_vc.sum()\n",
    "    income_p = income_p.values.tolist()\n",
    "\n",
    "    x = 300000\n",
    "    num_bins = len(income_p)\n",
    "    lower_ls = list(map(min, np.array_split(range(x), num_bins)))\n",
    "    upper_ls = list(map(max, np.array_split(range(x), num_bins)))\n",
    "    range_ls = list(zip(lower_ls, upper_ls))\n",
    "    random.shuffle(range_ls)\n",
    "    income_df = DataFrame({'Income Range' : range_ls, 'Probability' : income_p})\n",
    "    return income_df\n",
    "income_df = generateIncomeDistribution(seed = 20)"
   ]
  },
  {
   "cell_type": "markdown",
   "metadata": {},
   "source": [
    "### 4. Age Distribution"
   ]
  },
  {
   "cell_type": "code",
   "execution_count": 7,
   "metadata": {},
   "outputs": [],
   "source": [
    "def generateAgeDistribution():\n",
    "    # Generate age distribution from data source\n",
    "    age = [(0, 4), (5, 9), (10, 14), (15, 19), (20, 24), (25, 29), (30, 34), (35, 39), (40, 44), (45, 49), (50, 54), (55, 59), (60, 64), (65, 69), (70, 74), (75, 79), (80, 84), (85, 100)]\n",
    "    pct = [3.8, 3.5, 3.3, 3.5, 3.6, 4.8, 4.0, 3.5, 3.3, 3.4, 3.3, 2.8, 2.3, 1.6, 1.2, 0.9, 0.7, 0.5]\n",
    "    pct = list(map(lambda x : x * 0.02, pct))\n",
    "    age_df = DataFrame({'Age Range' : age, 'Probability' : pct})\n",
    "    return age_df\n",
    "age_df = generateAgeDistribution()"
   ]
  },
  {
   "cell_type": "markdown",
   "metadata": {},
   "source": [
    "### 5. Preference Distribution"
   ]
  },
  {
   "cell_type": "code",
   "execution_count": 8,
   "metadata": {},
   "outputs": [],
   "source": [
    "def generatePreferenceDistribution():\n",
    "    # Generate Preference distribution from data source\n",
    "    preference_df = DataFrame({'Preference' : ['Dating', 'Shopping', 'News', 'Social'], 'Probability' : [0.4, 0.3, 0.2, 0.1]})\n",
    "    return preference_df\n",
    "preference_df = generatePreferenceDistribution()"
   ]
  },
  {
   "cell_type": "markdown",
   "metadata": {},
   "source": [
    "<hr>\n",
    "\n",
    "### H1: The daily click-through rate of Tinder app is less than 10%."
   ]
  },
  {
   "cell_type": "code",
   "execution_count": 9,
   "metadata": {},
   "outputs": [],
   "source": [
    "def generateMCSimulation(n_customer, gender_df = gender_df, age_df = age_df, income_df = income_df, population_df = population_df, preference_df = preference_df):\n",
    "    # Generate Monte Carlo Simulation for n_customer based on gender, age, income, population density and preference\n",
    "    customer_number = n_customer\n",
    "    gender_arr = np.random.choice(gender_df['Gender'], p = gender_df['Probability'].values.tolist(), size = customer_number)\n",
    "    age_ls = np.random.choice(age_df['Age Range'], p = age_df['Probability'].values.tolist(), size = customer_number).tolist()\n",
    "    age_arr = np.array(list(map(lambda x : np.random.uniform(low = x[0], high = [1]).tolist()[0], age_ls)))\n",
    "    income_ls = np.random.choice(income_df['Income Range'], p = income_df['Probability'].values.tolist(), size = customer_number).tolist()\n",
    "    income_arr = np.array(list(map(lambda x : np.random.uniform(low = x[0], high = [1]).tolist()[0], income_ls)))\n",
    "    population_ls = np.random.choice(population_df['Population Density Range'], p = population_df['Probability'].values.tolist(), size = customer_number).tolist()\n",
    "    population_arr = np.array(list(map(lambda x : np.random.uniform(low = x[0], high = [1]).tolist()[0], population_ls)))\n",
    "    preference_arr = np.random.normal(loc = 1, scale = 0.5, size = customer_number)\n",
    "    return population_arr, income_arr, gender_arr, preference_arr, age_arr"
   ]
  },
  {
   "cell_type": "markdown",
   "metadata": {},
   "source": [
    "Model\n",
    "\n",
    "z = (0.05(Population)<sup>1/3</sup> - 2.4log(Income) + 0.03(Gender) + 0.013(e<sup>Preference</sup>)) / 0.08e<sup>Age<sup>1/2</sup></sup> \n",
    "<br>\n",
    "y = 1 / (1 + e<sup>-z</sup>)"
   ]
  },
  {
   "cell_type": "code",
   "execution_count": 18,
   "metadata": {},
   "outputs": [
    {
     "data": {
      "text/plain": [
       "0.087365"
      ]
     },
     "execution_count": 18,
     "metadata": {},
     "output_type": "execute_result"
    }
   ],
   "source": [
    "population_arr, income_arr, gender_arr, preference_arr, age_arr = generateMCSimulation(1000000)\n",
    "t = (0.05 * np.cbrt(population_arr) - 2.4 * np.log(income_arr) + 0.03 * gender_arr + 0.013 * np.exp(preference_arr)) / (0.08 * np.exp(np.sqrt(age_arr)))\n",
    "prob = np.round(1 / (1 + np.exp(-t)), 3)\n",
    "choice = list(map(lambda x : np.random.choice([1, 0], p = [x, 1 - x]), prob.tolist()))\n",
    "sum(choice) / len(choice)"
   ]
  },
  {
   "cell_type": "markdown",
   "metadata": {},
   "source": [
    "<hr>\n",
    "\n",
    "### H2: The weather (20 days window size) affects consumers' choices\n",
    "\n",
    "Model:\n",
    "\n",
    "z = (0.05(Population)<sup>1/3</sup> - 2.4log(Income) + 0.03(Gender) + 0.013(e<sup>Preference</sup>) + 0.001(Temperature<sup>2</sup>) / 0.08e<sup>Age<sup>1/2</sup></sup>\n",
    "<br>\n",
    "y = 1 / (1 + e<sup>-z</sup>)"
   ]
  },
  {
   "cell_type": "code",
   "execution_count": null,
   "metadata": {},
   "outputs": [],
   "source": [
    "temperature = [37, 50, 72, 75, 77, 82, 81, 59, 63, 55, 55, 63, 50, 54, 50, 54, 52, 55, 63, 46]\n",
    "customer_number = 1000000\n",
    "ctr_ls = []\n",
    "for temp in temperature:\n",
    "    population_arr, income_arr, gender_arr, preference_arr, age_arr = generateMCSimulation(customer_number)\n",
    "    temp = np.array([temp] * customer_number)\n",
    "    t = (0.05 * np.cbrt(population_arr) - 2.4 * np.log(income_arr) + 0.03 * gender_arr + 0.013 * np.exp(preference_arr)) + 0.001 * temp * temp / (0.08 * np.exp(np.sqrt(age_arr)))\n",
    "    prob = np.round(1 / (1 + np.exp(-t)), 3)\n",
    "    choice = list(map(lambda x : np.random.choice([1, 0], p = [x, 1 - x]), prob.tolist()))\n",
    "    ctr = sum(choice) / len(choice)\n",
    "    ctr_ls.append(ctr)\n",
    "Series(ctr_ls, index = ['04/' + str(x) for x in range(1, 21)])\n",
    "fig, ax = plt.subplots(1, 2, figsize = (14, 5))\n",
    "Series(ctr_ls, index = ['04/' + str(x) for x in range(1, 21)]).plot(ax = ax[0], color = 'dodgerblue')\n",
    "Series(temperature, index = ['04/' + str(x) for x in range(1, 21)]).plot(ax = ax[1], color = 'crimson')"
   ]
  },
  {
   "cell_type": "markdown",
   "metadata": {},
   "source": [
    "### H3: The screen position of apps will affect their popularities\n",
    "\n",
    "Model:\n",
    "\n",
    "z<sub>i, j</sub> = (0.05(Population)<sup>1/3</sup> - 2.4log(Income) + 0.03(Gender) + 0.013(e<sup>Preference</sup>) * e<sup>diff(multivariate_normal(mean(i, j), cov = ([2, 1], [1, 2])))</sup> / 0.08e<sup>Age<sup>1/2</sup></sup>\n",
    "<br>\n",
    "probability<sub>i, j</sub>  = z<sub>i, j</sub> / sum(z<sub>i, j</sub>)"
   ]
  },
  {
   "cell_type": "code",
   "execution_count": 47,
   "metadata": {},
   "outputs": [
    {
     "data": {
      "text/plain": [
       "Grindr       317079\n",
       "Target       155311\n",
       "Hinge        155084\n",
       "Walmart       70002\n",
       "Gmail         69776\n",
       "Bumble        69602\n",
       "Facebook      29652\n",
       "Tinder        29384\n",
       "TikTok        29383\n",
       "Paypal        29071\n",
       "Amazon        11709\n",
       "PHub          11709\n",
       "Youtube       11608\n",
       "News           4496\n",
       "Twitter        4488\n",
       "Instagram      1646\n",
       "dtype: int64"
      ]
     },
     "execution_count": 47,
     "metadata": {},
     "output_type": "execute_result"
    },
    {
     "data": {
      "image/png": "[encoded data removed]",
      "text/plain": [
       "<Figure size 1080x576 with 1 Axes>"
      ]
     },
     "metadata": {
      "needs_background": "light"
     },
     "output_type": "display_data"
    }
   ],
   "source": [
    "def generateMultivariateNormal(mean_i, mean_j, cov = [[2, 1], [1, 2]], n_customer = 1000000):\n",
    "    # generate score of screen position exp(diff(multivariate_normal(mean(i, j), cov = ([2, 1], [1, 2])))) based on multivariate normal distribution\n",
    "    # >>> generateMultivariateNormal(mean_i = 2, mean_j = 2, cov = [[2, 1], [1, 2]], n_customer = 10)\n",
    "    # array([[0.171],\n",
    "    #        [1.346],\n",
    "    #        [1.066],\n",
    "    #        [0.607],\n",
    "    #        [3.565],\n",
    "    #        [1.544],\n",
    "    #        [0.656],\n",
    "    #        [0.145],\n",
    "    #        [1.527],\n",
    "    #        [0.81 ]])\n",
    "    res = np.diff(np.random.multivariate_normal(mean = ([mean_i, mean_j]), cov = cov, size = n_customer), axis = 1)\n",
    "    res = np.round(np.exp(res), 3)\n",
    "    return res\n",
    "\n",
    "n_customer = 1000000\n",
    "population_arr, income_arr, gender_arr, preference_arr, age_arr = generateMCSimulation(n_customer)\n",
    "position_df = DataFrame()\n",
    "for i in range(4):\n",
    "    for j in range(4):\n",
    "        position_arr = np.array(list(map(lambda x : x[0], generateMultivariateNormal(mean_i = i, mean_j = j, cov = [[2, 1], [1, 2]], n_customer = n_customer))))\n",
    "        z = (0.05 * np.cbrt(population_arr) - 2.4 * np.log(income_arr) + 0.03 * gender_arr + 0.013 * np.exp(preference_arr)) * position_arr / (0.08 * np.exp(np.sqrt(age_arr)))\n",
    "        position_df[str(i) + ', ' + str(j)] = z\n",
    "position_df = position_df.applymap(np.abs)\n",
    "position_df['Sum'] = position_df.sum(axis = 1)\n",
    "for i in range(len(position_df.columns)):\n",
    "    name = position_df.iloc[:, i].name\n",
    "    position_df[name] = position_df[name] / position_df['Sum']\n",
    "position_df = position_df.drop(columns = ['Sum'])\n",
    "choice_ls = []\n",
    "for i in range(len(position_df)):\n",
    "    choice = np.random.choice(position_df.columns.tolist(), p = position_df.iloc[i].values.tolist(), size = 1)\n",
    "    choice_ls.append(choice)\n",
    "choice_ls = list(map(lambda x : x.tolist()[0], choice_ls))\n",
    "app_loc_map = {'0, 0' : 'Tinder', '0, 1' : 'Bumble', '0, 2' : 'Hinge', '0, 3' : 'Grindr', \n",
    "               '1, 0' : 'Amazon', '1, 1' : 'Paypal', '1, 2' : 'Walmart', '1, 3' : 'Target', \n",
    "               '2, 0' : 'Twitter', '2, 1' : 'PHub', '2, 2' : 'Facebook', '2, 3' : 'Gmail', \n",
    "               '3, 0' : 'Instagram', '3, 1' : 'News', '3, 2' : 'Youtube', '3, 3' : 'TikTok'}\n",
    "choice_vc = Series(choice_ls).value_counts()\n",
    "choice_vc.index = list(map(lambda x : app_loc_map[x], choice_vc.index.tolist()))\n",
    "choice_vc.plot(kind = 'bar', figsize = (15, 8), color = 'dodgerblue', rot = 0)\n",
    "choice_vc"
   ]
  }
 ],
 "metadata": {
  "kernelspec": {
   "display_name": "Python 3",
   "language": "python",
   "name": "python3"
  },
  "language_info": {
   "codemirror_mode": {
    "name": "ipython",
    "version": 3
   },
   "file_extension": ".py",
   "mimetype": "text/x-python",
   "name": "python",
   "nbconvert_exporter": "python",
   "pygments_lexer": "ipython3",
   "version": "3.7.4"
  }
 },
 "nbformat": 4,
 "nbformat_minor": 4
}
