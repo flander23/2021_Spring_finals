{
 "cells": [
  {
   "cell_type": "code",
   "execution_count": 53,
   "metadata": {},
   "outputs": [],
   "source": [
    "import PIL\n",
    "from PIL import Image\n",
    "import numpy as np\n",
    "import pandas as pd\n",
    "from pandas import Series, DataFrame\n",
    "import math\n",
    "import os\n",
    "import sys\n",
    "import random"
   ]
  },
  {
   "cell_type": "markdown",
   "metadata": {},
   "source": [
    "### 1"
   ]
  },
  {
   "cell_type": "code",
   "execution_count": 100,
   "metadata": {},
   "outputs": [
    {
     "data": {
      "text/html": [
       "<div>\n",
       "<style scoped>\n",
       "    .dataframe tbody tr th:only-of-type {\n",
       "        vertical-align: middle;\n",
       "    }\n",
       "\n",
       "    .dataframe tbody tr th {\n",
       "        vertical-align: top;\n",
       "    }\n",
       "\n",
       "    .dataframe thead th {\n",
       "        text-align: right;\n",
       "    }\n",
       "</style>\n",
       "<table border=\"1\" class=\"dataframe\">\n",
       "  <thead>\n",
       "    <tr style=\"text-align: right;\">\n",
       "      <th></th>\n",
       "      <th>Gender</th>\n",
       "      <th>Probability</th>\n",
       "    </tr>\n",
       "  </thead>\n",
       "  <tbody>\n",
       "    <tr>\n",
       "      <th>0</th>\n",
       "      <td>1</td>\n",
       "      <td>0.4852</td>\n",
       "    </tr>\n",
       "    <tr>\n",
       "      <th>1</th>\n",
       "      <td>0</td>\n",
       "      <td>0.5148</td>\n",
       "    </tr>\n",
       "  </tbody>\n",
       "</table>\n",
       "</div>"
      ],
      "text/plain": [
       "   Gender  Probability\n",
       "0       1       0.4852\n",
       "1       0       0.5148"
      ]
     },
     "execution_count": 100,
     "metadata": {},
     "output_type": "execute_result"
    }
   ],
   "source": [
    "gender_df = DataFrame({'Gender' : [1, 0], 'Probability' : [0.4852, 0.5148]})\n",
    "gender_df"
   ]
  },
  {
   "cell_type": "markdown",
   "metadata": {},
   "source": [
    "### 2"
   ]
  },
  {
   "cell_type": "code",
   "execution_count": 75,
   "metadata": {},
   "outputs": [
    {
     "data": {
      "text/html": [
       "<div>\n",
       "<style scoped>\n",
       "    .dataframe tbody tr th:only-of-type {\n",
       "        vertical-align: middle;\n",
       "    }\n",
       "\n",
       "    .dataframe tbody tr th {\n",
       "        vertical-align: top;\n",
       "    }\n",
       "\n",
       "    .dataframe thead th {\n",
       "        text-align: right;\n",
       "    }\n",
       "</style>\n",
       "<table border=\"1\" class=\"dataframe\">\n",
       "  <thead>\n",
       "    <tr style=\"text-align: right;\">\n",
       "      <th></th>\n",
       "      <th>Population Density Range</th>\n",
       "      <th>Probability</th>\n",
       "    </tr>\n",
       "  </thead>\n",
       "  <tbody>\n",
       "    <tr>\n",
       "      <th>0</th>\n",
       "      <td>(7128, 7325)</td>\n",
       "      <td>0.120283</td>\n",
       "    </tr>\n",
       "    <tr>\n",
       "      <th>1</th>\n",
       "      <td>(2970, 3167)</td>\n",
       "      <td>0.077270</td>\n",
       "    </tr>\n",
       "    <tr>\n",
       "      <th>2</th>\n",
       "      <td>(12270, 12466)</td>\n",
       "      <td>0.037713</td>\n",
       "    </tr>\n",
       "    <tr>\n",
       "      <th>3</th>\n",
       "      <td>(23499, 23695)</td>\n",
       "      <td>0.036740</td>\n",
       "    </tr>\n",
       "    <tr>\n",
       "      <th>4</th>\n",
       "      <td>(5940, 6137)</td>\n",
       "      <td>0.036407</td>\n",
       "    </tr>\n",
       "    <tr>\n",
       "      <th>...</th>\n",
       "      <td>...</td>\n",
       "      <td>...</td>\n",
       "    </tr>\n",
       "    <tr>\n",
       "      <th>147</th>\n",
       "      <td>(11482, 11678)</td>\n",
       "      <td>0.001331</td>\n",
       "    </tr>\n",
       "    <tr>\n",
       "      <th>148</th>\n",
       "      <td>(8910, 9107)</td>\n",
       "      <td>0.001331</td>\n",
       "    </tr>\n",
       "    <tr>\n",
       "      <th>149</th>\n",
       "      <td>(10098, 10295)</td>\n",
       "      <td>0.001319</td>\n",
       "    </tr>\n",
       "    <tr>\n",
       "      <th>150</th>\n",
       "      <td>(19165, 19361)</td>\n",
       "      <td>0.001293</td>\n",
       "    </tr>\n",
       "    <tr>\n",
       "      <th>151</th>\n",
       "      <td>(20347, 20543)</td>\n",
       "      <td>0.001293</td>\n",
       "    </tr>\n",
       "  </tbody>\n",
       "</table>\n",
       "<p>152 rows × 2 columns</p>\n",
       "</div>"
      ],
      "text/plain": [
       "    Population Density Range  Probability\n",
       "0               (7128, 7325)     0.120283\n",
       "1               (2970, 3167)     0.077270\n",
       "2             (12270, 12466)     0.037713\n",
       "3             (23499, 23695)     0.036740\n",
       "4               (5940, 6137)     0.036407\n",
       "..                       ...          ...\n",
       "147           (11482, 11678)     0.001331\n",
       "148             (8910, 9107)     0.001331\n",
       "149           (10098, 10295)     0.001319\n",
       "150           (19165, 19361)     0.001293\n",
       "151           (20347, 20543)     0.001293\n",
       "\n",
       "[152 rows x 2 columns]"
      ]
     },
     "execution_count": 75,
     "metadata": {},
     "output_type": "execute_result"
    }
   ],
   "source": [
    "random.seed(99)\n",
    "population_img = Image.open(r'./Distribution/City of Chicago population density circa 2010.jpg')\n",
    "population_image_sequence = population_img.getdata()\n",
    "population_image_array = np.array(population_image_sequence)\n",
    "population_image_series = Series(population_image_array.tolist()).map(lambda x : ', '.join(list(map(str, x))))\n",
    "population_image_series_vc = population_image_series.value_counts()\n",
    "population_image_series_vc = population_image_series_vc.iloc[1:]\n",
    "population_image_series_vc = population_image_series_vc[population_image_series_vc > 100]\n",
    "population_p  = population_image_series_vc / population_image_series_vc.sum()\n",
    "population_p = population_p.values.tolist()\n",
    "\n",
    "x = 30000\n",
    "num_bins = len(population_p)\n",
    "lower_ls = list(map(min, np.array_split(range(x), num_bins)))\n",
    "upper_ls = list(map(max, np.array_split(range(x), num_bins)))\n",
    "range_ls = list(zip(lower_ls, upper_ls))\n",
    "random.shuffle(range_ls)\n",
    "population_df = DataFrame({'Population Density Range' : range_ls, 'Probability' : population_p})\n",
    "population_df"
   ]
  },
  {
   "cell_type": "markdown",
   "metadata": {},
   "source": [
    "### 3"
   ]
  },
  {
   "cell_type": "code",
   "execution_count": 85,
   "metadata": {},
   "outputs": [
    {
     "data": {
      "text/html": [
       "<div>\n",
       "<style scoped>\n",
       "    .dataframe tbody tr th:only-of-type {\n",
       "        vertical-align: middle;\n",
       "    }\n",
       "\n",
       "    .dataframe tbody tr th {\n",
       "        vertical-align: top;\n",
       "    }\n",
       "\n",
       "    .dataframe thead th {\n",
       "        text-align: right;\n",
       "    }\n",
       "</style>\n",
       "<table border=\"1\" class=\"dataframe\">\n",
       "  <thead>\n",
       "    <tr style=\"text-align: right;\">\n",
       "      <th></th>\n",
       "      <th>Income Range</th>\n",
       "      <th>Probability</th>\n",
       "    </tr>\n",
       "  </thead>\n",
       "  <tbody>\n",
       "    <tr>\n",
       "      <th>0</th>\n",
       "      <td>(10003, 11431)</td>\n",
       "      <td>0.073294</td>\n",
       "    </tr>\n",
       "    <tr>\n",
       "      <th>1</th>\n",
       "      <td>(51444, 52872)</td>\n",
       "      <td>0.023482</td>\n",
       "    </tr>\n",
       "    <tr>\n",
       "      <th>2</th>\n",
       "      <td>(174336, 175763)</td>\n",
       "      <td>0.019728</td>\n",
       "    </tr>\n",
       "    <tr>\n",
       "      <th>3</th>\n",
       "      <td>(47157, 48585)</td>\n",
       "      <td>0.019662</td>\n",
       "    </tr>\n",
       "    <tr>\n",
       "      <th>4</th>\n",
       "      <td>(112891, 114319)</td>\n",
       "      <td>0.019105</td>\n",
       "    </tr>\n",
       "    <tr>\n",
       "      <th>...</th>\n",
       "      <td>...</td>\n",
       "      <td>...</td>\n",
       "    </tr>\n",
       "    <tr>\n",
       "      <th>205</th>\n",
       "      <td>(54302, 55730)</td>\n",
       "      <td>0.000245</td>\n",
       "    </tr>\n",
       "    <tr>\n",
       "      <th>206</th>\n",
       "      <td>(280008, 281435)</td>\n",
       "      <td>0.000239</td>\n",
       "    </tr>\n",
       "    <tr>\n",
       "      <th>207</th>\n",
       "      <td>(287148, 288575)</td>\n",
       "      <td>0.000237</td>\n",
       "    </tr>\n",
       "    <tr>\n",
       "      <th>208</th>\n",
       "      <td>(250020, 251447)</td>\n",
       "      <td>0.000235</td>\n",
       "    </tr>\n",
       "    <tr>\n",
       "      <th>209</th>\n",
       "      <td>(264300, 265727)</td>\n",
       "      <td>0.000210</td>\n",
       "    </tr>\n",
       "  </tbody>\n",
       "</table>\n",
       "<p>210 rows × 2 columns</p>\n",
       "</div>"
      ],
      "text/plain": [
       "         Income Range  Probability\n",
       "0      (10003, 11431)     0.073294\n",
       "1      (51444, 52872)     0.023482\n",
       "2    (174336, 175763)     0.019728\n",
       "3      (47157, 48585)     0.019662\n",
       "4    (112891, 114319)     0.019105\n",
       "..                ...          ...\n",
       "205    (54302, 55730)     0.000245\n",
       "206  (280008, 281435)     0.000239\n",
       "207  (287148, 288575)     0.000237\n",
       "208  (250020, 251447)     0.000235\n",
       "209  (264300, 265727)     0.000210\n",
       "\n",
       "[210 rows x 2 columns]"
      ]
     },
     "execution_count": 85,
     "metadata": {},
     "output_type": "execute_result"
    }
   ],
   "source": [
    "random.seed(20)\n",
    "income_img = Image.open(r'./Distribution/Chicago-Median-Household-Income.png')\n",
    "income_image_sequence = income_img.getdata()\n",
    "income_image_array = np.array(income_image_sequence)\n",
    "income_image_series = Series(income_image_array.tolist()).map(lambda x : ', '.join(list(map(str, x))))\n",
    "\n",
    "income_image_series_vc = income_image_series.value_counts()\n",
    "income_image_series_vc = income_image_series_vc.iloc[1:]\n",
    "income_image_series_vc = income_image_series_vc[income_image_series_vc > 100]\n",
    "income_p  = income_image_series_vc / income_image_series_vc.sum()\n",
    "income_p = income_p.values.tolist()\n",
    "\n",
    "x = 300000\n",
    "num_bins = len(income_p)\n",
    "lower_ls = list(map(min, np.array_split(range(x), num_bins)))\n",
    "upper_ls = list(map(max, np.array_split(range(x), num_bins)))\n",
    "range_ls = list(zip(lower_ls, upper_ls))\n",
    "random.shuffle(range_ls)\n",
    "income_df = DataFrame({'Income Range' : range_ls, 'Probability' : income_p})\n",
    "income_df"
   ]
  },
  {
   "cell_type": "markdown",
   "metadata": {},
   "source": [
    "### 4"
   ]
  },
  {
   "cell_type": "code",
   "execution_count": 96,
   "metadata": {},
   "outputs": [
    {
     "data": {
      "text/html": [
       "<div>\n",
       "<style scoped>\n",
       "    .dataframe tbody tr th:only-of-type {\n",
       "        vertical-align: middle;\n",
       "    }\n",
       "\n",
       "    .dataframe tbody tr th {\n",
       "        vertical-align: top;\n",
       "    }\n",
       "\n",
       "    .dataframe thead th {\n",
       "        text-align: right;\n",
       "    }\n",
       "</style>\n",
       "<table border=\"1\" class=\"dataframe\">\n",
       "  <thead>\n",
       "    <tr style=\"text-align: right;\">\n",
       "      <th></th>\n",
       "      <th>Age Range</th>\n",
       "      <th>Probability</th>\n",
       "    </tr>\n",
       "  </thead>\n",
       "  <tbody>\n",
       "    <tr>\n",
       "      <th>0</th>\n",
       "      <td>(0, 4)</td>\n",
       "      <td>0.076</td>\n",
       "    </tr>\n",
       "    <tr>\n",
       "      <th>1</th>\n",
       "      <td>(5, 9)</td>\n",
       "      <td>0.070</td>\n",
       "    </tr>\n",
       "    <tr>\n",
       "      <th>2</th>\n",
       "      <td>(10, 14)</td>\n",
       "      <td>0.066</td>\n",
       "    </tr>\n",
       "    <tr>\n",
       "      <th>3</th>\n",
       "      <td>(15, 19)</td>\n",
       "      <td>0.070</td>\n",
       "    </tr>\n",
       "    <tr>\n",
       "      <th>4</th>\n",
       "      <td>(20, 24)</td>\n",
       "      <td>0.072</td>\n",
       "    </tr>\n",
       "    <tr>\n",
       "      <th>5</th>\n",
       "      <td>(25, 29)</td>\n",
       "      <td>0.096</td>\n",
       "    </tr>\n",
       "    <tr>\n",
       "      <th>6</th>\n",
       "      <td>(30, 34)</td>\n",
       "      <td>0.080</td>\n",
       "    </tr>\n",
       "    <tr>\n",
       "      <th>7</th>\n",
       "      <td>(35, 39)</td>\n",
       "      <td>0.070</td>\n",
       "    </tr>\n",
       "    <tr>\n",
       "      <th>8</th>\n",
       "      <td>(40, 44)</td>\n",
       "      <td>0.066</td>\n",
       "    </tr>\n",
       "    <tr>\n",
       "      <th>9</th>\n",
       "      <td>(45, 49)</td>\n",
       "      <td>0.068</td>\n",
       "    </tr>\n",
       "    <tr>\n",
       "      <th>10</th>\n",
       "      <td>(50, 54)</td>\n",
       "      <td>0.066</td>\n",
       "    </tr>\n",
       "    <tr>\n",
       "      <th>11</th>\n",
       "      <td>(55, 59)</td>\n",
       "      <td>0.056</td>\n",
       "    </tr>\n",
       "    <tr>\n",
       "      <th>12</th>\n",
       "      <td>(60, 64)</td>\n",
       "      <td>0.046</td>\n",
       "    </tr>\n",
       "    <tr>\n",
       "      <th>13</th>\n",
       "      <td>(65, 69)</td>\n",
       "      <td>0.032</td>\n",
       "    </tr>\n",
       "    <tr>\n",
       "      <th>14</th>\n",
       "      <td>(70, 74)</td>\n",
       "      <td>0.024</td>\n",
       "    </tr>\n",
       "    <tr>\n",
       "      <th>15</th>\n",
       "      <td>(75, 79)</td>\n",
       "      <td>0.018</td>\n",
       "    </tr>\n",
       "    <tr>\n",
       "      <th>16</th>\n",
       "      <td>(80, 84)</td>\n",
       "      <td>0.014</td>\n",
       "    </tr>\n",
       "    <tr>\n",
       "      <th>17</th>\n",
       "      <td>(85, 100)</td>\n",
       "      <td>0.010</td>\n",
       "    </tr>\n",
       "  </tbody>\n",
       "</table>\n",
       "</div>"
      ],
      "text/plain": [
       "    Age Range  Probability\n",
       "0      (0, 4)        0.076\n",
       "1      (5, 9)        0.070\n",
       "2    (10, 14)        0.066\n",
       "3    (15, 19)        0.070\n",
       "4    (20, 24)        0.072\n",
       "5    (25, 29)        0.096\n",
       "6    (30, 34)        0.080\n",
       "7    (35, 39)        0.070\n",
       "8    (40, 44)        0.066\n",
       "9    (45, 49)        0.068\n",
       "10   (50, 54)        0.066\n",
       "11   (55, 59)        0.056\n",
       "12   (60, 64)        0.046\n",
       "13   (65, 69)        0.032\n",
       "14   (70, 74)        0.024\n",
       "15   (75, 79)        0.018\n",
       "16   (80, 84)        0.014\n",
       "17  (85, 100)        0.010"
      ]
     },
     "execution_count": 96,
     "metadata": {},
     "output_type": "execute_result"
    }
   ],
   "source": [
    "age = [(0, 4), (5, 9), (10, 14), (15, 19), (20, 24), (25, 29), (30, 34), (35, 39), (40, 44), (45, 49), (50, 54), (55, 59), (60, 64), (65, 69), (70, 74), (75, 79), (80, 84), (85, 100)]\n",
    "pct = [3.8, 3.5, 3.3, 3.5, 3.6, 4.8, 4.0, 3.5, 3.3, 3.4, 3.3, 2.8, 2.3, 1.6, 1.2, 0.9, 0.7, 0.5]\n",
    "pct = list(map(lambda x : x * 0.02, pct))\n",
    "age_df = DataFrame({'Age Range' : age, 'Probability' : pct})\n",
    "age_df"
   ]
  },
  {
   "cell_type": "markdown",
   "metadata": {},
   "source": [
    "### 5"
   ]
  },
  {
   "cell_type": "code",
   "execution_count": 98,
   "metadata": {},
   "outputs": [
    {
     "data": {
      "text/html": [
       "<div>\n",
       "<style scoped>\n",
       "    .dataframe tbody tr th:only-of-type {\n",
       "        vertical-align: middle;\n",
       "    }\n",
       "\n",
       "    .dataframe tbody tr th {\n",
       "        vertical-align: top;\n",
       "    }\n",
       "\n",
       "    .dataframe thead th {\n",
       "        text-align: right;\n",
       "    }\n",
       "</style>\n",
       "<table border=\"1\" class=\"dataframe\">\n",
       "  <thead>\n",
       "    <tr style=\"text-align: right;\">\n",
       "      <th></th>\n",
       "      <th>Preference</th>\n",
       "      <th>Probability</th>\n",
       "    </tr>\n",
       "  </thead>\n",
       "  <tbody>\n",
       "    <tr>\n",
       "      <th>0</th>\n",
       "      <td>Dating</td>\n",
       "      <td>0.4</td>\n",
       "    </tr>\n",
       "    <tr>\n",
       "      <th>1</th>\n",
       "      <td>Shopping</td>\n",
       "      <td>0.3</td>\n",
       "    </tr>\n",
       "    <tr>\n",
       "      <th>2</th>\n",
       "      <td>News</td>\n",
       "      <td>0.2</td>\n",
       "    </tr>\n",
       "    <tr>\n",
       "      <th>3</th>\n",
       "      <td>Social</td>\n",
       "      <td>0.1</td>\n",
       "    </tr>\n",
       "  </tbody>\n",
       "</table>\n",
       "</div>"
      ],
      "text/plain": [
       "  Preference  Probability\n",
       "0     Dating          0.4\n",
       "1   Shopping          0.3\n",
       "2       News          0.2\n",
       "3     Social          0.1"
      ]
     },
     "execution_count": 98,
     "metadata": {},
     "output_type": "execute_result"
    }
   ],
   "source": [
    "preference_df = DataFrame({'Preference' : ['Dating', 'Shopping', 'News', 'Social'], 'Probability' : [0.4, 0.3, 0.2, 0.1]})\n",
    "preference_df.head()"
   ]
  },
  {
   "cell_type": "code",
   "execution_count": 197,
   "metadata": {},
   "outputs": [],
   "source": [
    "customer_number = 1000000\n",
    "gender_arr = np.random.choice(gender_df['Gender'], p = gender_df['Probability'].values.tolist(), size = customer_number)\n",
    "age_ls = np.random.choice(age_df['Age Range'], p = age_df['Probability'].values.tolist(), size = customer_number).tolist()\n",
    "age_arr = np.array(list(map(lambda x : np.random.uniform(low = x[0], high = [1]).tolist()[0], age_ls)))\n",
    "income_ls = np.random.choice(income_df['Income Range'], p = income_df['Probability'].values.tolist(), size = customer_number).tolist()\n",
    "income_arr = np.array(list(map(lambda x : np.random.uniform(low = x[0], high = [1]).tolist()[0], income_ls)))\n",
    "population_ls = np.random.choice(population_df['Population Density Range'], p = population_df['Probability'].values.tolist(), size = customer_number).tolist()\n",
    "population_arr = np.array(list(map(lambda x : np.random.uniform(low = x[0], high = [1]).tolist()[0], population_ls)))\n",
    "preference_arr = np.random.normal(loc = 1, scale = 0.5, size = customer_number)"
   ]
  },
  {
   "cell_type": "markdown",
   "metadata": {},
   "source": [
    "经过市场调查得到模型\n",
    "\n",
    "z = (0.05(Population)<sup>1/3</sup> - 2.4log(Income) + 0.03(Gender) + 0.013(e<sup>Preference</sup>)) / 0.08e<sup>Age<sup>1/2</sup></sup> \n",
    "<br>\n",
    "y = 1 / (1 + e<sup>-z</sup>)"
   ]
  },
  {
   "cell_type": "code",
   "execution_count": 198,
   "metadata": {},
   "outputs": [
    {
     "data": {
      "text/plain": [
       "array([0.023, 0.   , 0.006, ..., 0.024, 0.   , 0.019])"
      ]
     },
     "execution_count": 198,
     "metadata": {},
     "output_type": "execute_result"
    }
   ],
   "source": [
    "t = (0.05 * np.cbrt(population_arr) - 2.4 * np.log(income_arr) + 0.03 * gender_arr + 0.013 * np.exp(preference_arr)) / (0.08 * np.exp(np.sqrt(age_arr)))\n",
    "prob = np.round(1 / (1 + np.exp(-t)), 3)\n",
    "prob"
   ]
  },
  {
   "cell_type": "markdown",
   "metadata": {},
   "source": [
    "### H1: The daily click-through rate of Tinder app is less than 5%."
   ]
  },
  {
   "cell_type": "code",
   "execution_count": 203,
   "metadata": {},
   "outputs": [
    {
     "data": {
      "text/plain": [
       "0.087481"
      ]
     },
     "execution_count": 203,
     "metadata": {},
     "output_type": "execute_result"
    }
   ],
   "source": [
    "choice = list(map(lambda x : np.random.choice([1, 0], p = [x, 1 - x]), prob.tolist()))\n",
    "sum(choice) / len(choice)"
   ]
  },
  {
   "cell_type": "markdown",
   "metadata": {},
   "source": [
    "### H2: The weather (30 days window size) affects consumers' choices"
   ]
  },
  {
   "cell_type": "code",
   "execution_count": null,
   "metadata": {},
   "outputs": [],
   "source": []
  }
 ],
 "metadata": {
  "kernelspec": {
   "display_name": "Python 3",
   "language": "python",
   "name": "python3"
  },
  "language_info": {
   "codemirror_mode": {
    "name": "ipython",
    "version": 3
   },
   "file_extension": ".py",
   "mimetype": "text/x-python",
   "name": "python",
   "nbconvert_exporter": "python",
   "pygments_lexer": "ipython3",
   "version": "3.8.5"
  }
 },
 "nbformat": 4,
 "nbformat_minor": 4
}
